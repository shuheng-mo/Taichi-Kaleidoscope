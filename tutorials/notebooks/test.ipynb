{
 "cells": [
  {
   "cell_type": "code",
   "execution_count": 1,
   "metadata": {},
   "outputs": [],
   "source": [
    "# imports\n",
    "import numpy as np\n",
    "from mpi4py import MPI\n",
    "# import taichi as ti # not supported for jupyter notebooks so far, need a better way"
   ]
  },
  {
   "cell_type": "code",
   "execution_count": 2,
   "metadata": {},
   "outputs": [
    {
     "name": "stdout",
     "output_type": "stream",
     "text": [
      "Overwriting taichi_test.py\n"
     ]
    }
   ],
   "source": [
    "%%writefile taichi_test.py\n",
    "import taichi as ti\n",
    "from utils import taichi_utils\n",
    "taichi_utils.initialization()"
   ]
  }
 ],
 "metadata": {
  "kernelspec": {
   "display_name": "Python 3.10.6 ('taichi-lab')",
   "language": "python",
   "name": "python3"
  },
  "language_info": {
   "codemirror_mode": {
    "name": "ipython",
    "version": 3
   },
   "file_extension": ".py",
   "mimetype": "text/x-python",
   "name": "python",
   "nbconvert_exporter": "python",
   "pygments_lexer": "ipython3",
   "version": "3.10.4"
  },
  "orig_nbformat": 4,
  "vscode": {
   "interpreter": {
    "hash": "91f23523b060678ed008789a24468fe98246a3e71ee732bfdb9e4b6b12adac5f"
   }
  }
 },
 "nbformat": 4,
 "nbformat_minor": 2
}
